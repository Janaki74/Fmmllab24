{
  "cells": [
    {
      "cell_type": "markdown",
      "metadata": {
        "id": "view-in-github",
        "colab_type": "text"
      },
      "source": [
        "<a href=\"https://colab.research.google.com/github/Janaki74/Fmmllab24/blob/main/FMML_M1L2.ipynb\" target=\"_parent\"><img src=\"https://colab.research.google.com/assets/colab-badge.svg\" alt=\"Open In Colab\"/></a>"
      ]
    },
    {
      "cell_type": "markdown",
      "metadata": {
        "id": "3Eu9VZbF01eq"
      },
      "source": [
        "# Machine Learning terms and metrics\n",
        "\n",
        "FMML Module 1, Lab 2\n",
        "\n",
        "In this lab, we will show a part of the ML pipeline by using the California Housing dataset. There are 20640 samples, each with 8 attributes like income of the block, age of the houses per district etc. The task is to predict the cost of the houses per district. We will use the scikit-learn library to load the data and perform some basic data preprocessing and model training. We will also show how to evaluate the model using some common metrics, split the data into training and testing sets, and use cross-validation to get a better estimate of the model's performance."
      ]
    },
    {
      "cell_type": "code",
      "execution_count": null,
      "metadata": {
        "id": "8qBvyEem0vLi"
      },
      "outputs": [],
      "source": [
        "import numpy as np\n",
        "from sklearn import datasets\n",
        "import matplotlib.pyplot as plt\n",
        "\n",
        "rng = np.random.default_rng(seed=42)"
      ]
    },
    {
      "cell_type": "code",
      "execution_count": null,
      "metadata": {
        "colab": {
          "base_uri": "https://localhost:8080/"
        },
        "id": "8LpqjN991GGJ",
        "outputId": "6f379d6f-dc2c-427a-93f7-587d7b909a5a"
      },
      "outputs": [
        {
          "output_type": "stream",
          "name": "stdout",
          "text": [
            ".. _california_housing_dataset:\n",
            "\n",
            "California Housing dataset\n",
            "--------------------------\n",
            "\n",
            "**Data Set Characteristics:**\n",
            "\n",
            "    :Number of Instances: 20640\n",
            "\n",
            "    :Number of Attributes: 8 numeric, predictive attributes and the target\n",
            "\n",
            "    :Attribute Information:\n",
            "        - MedInc        median income in block group\n",
            "        - HouseAge      median house age in block group\n",
            "        - AveRooms      average number of rooms per household\n",
            "        - AveBedrms     average number of bedrooms per household\n",
            "        - Population    block group population\n",
            "        - AveOccup      average number of household members\n",
            "        - Latitude      block group latitude\n",
            "        - Longitude     block group longitude\n",
            "\n",
            "    :Missing Attribute Values: None\n",
            "\n",
            "This dataset was obtained from the StatLib repository.\n",
            "https://www.dcc.fc.up.pt/~ltorgo/Regression/cal_housing.html\n",
            "\n",
            "The target variable is the median house value for California districts,\n",
            "expressed in hundreds of thousands of dollars ($100,000).\n",
            "\n",
            "This dataset was derived from the 1990 U.S. census, using one row per census\n",
            "block group. A block group is the smallest geographical unit for which the U.S.\n",
            "Census Bureau publishes sample data (a block group typically has a population\n",
            "of 600 to 3,000 people).\n",
            "\n",
            "A household is a group of people residing within a home. Since the average\n",
            "number of rooms and bedrooms in this dataset are provided per household, these\n",
            "columns may take surprisingly large values for block groups with few households\n",
            "and many empty houses, such as vacation resorts.\n",
            "\n",
            "It can be downloaded/loaded using the\n",
            ":func:`sklearn.datasets.fetch_california_housing` function.\n",
            "\n",
            ".. topic:: References\n",
            "\n",
            "    - Pace, R. Kelley and Ronald Barry, Sparse Spatial Autoregressions,\n",
            "      Statistics and Probability Letters, 33 (1997) 291-297\n",
            "\n"
          ]
        }
      ],
      "source": [
        "dataset = datasets.fetch_california_housing()\n",
        "# Dataset description\n",
        "print(dataset.DESCR)"
      ]
    },
    {
      "cell_type": "markdown",
      "metadata": {
        "id": "PCe1VNftevgE"
      },
      "source": [
        "Given below are the list of target values. These correspond to the house value derived considering all the 8 input features and are continuous values. We should use regression models to predict these values but we will start with a simple classification model for the sake of simplicity. We need to just round off the values to the nearest integer and use a classification model to predict the house value."
      ]
    },
    {
      "cell_type": "code",
      "execution_count": null,
      "metadata": {
        "colab": {
          "base_uri": "https://localhost:8080/"
        },
        "id": "F8K0ggBOevgE",
        "outputId": "f71dd070-d8a0-41e1-b595-107fec9f47e8"
      },
      "outputs": [
        {
          "output_type": "stream",
          "name": "stdout",
          "text": [
            "Orignal target values: [4.526 3.585 3.521 ... 0.923 0.847 0.894]\n",
            "Target values after conversion: [4 3 3 ... 0 0 0]\n",
            "Input variables shape: (20640, 8)\n",
            "Output variables shape: (20640,)\n"
          ]
        }
      ],
      "source": [
        "print(\"Orignal target values:\", dataset.target)\n",
        "\n",
        "dataset.target = dataset.target.astype(int)\n",
        "\n",
        "print(\"Target values after conversion:\", dataset.target)\n",
        "print(\"Input variables shape:\", dataset.data.shape)\n",
        "print(\"Output variables shape:\", dataset.target.shape)"
      ]
    },
    {
      "cell_type": "markdown",
      "metadata": {
        "id": "iNx4174W5xRg"
      },
      "source": [
        "The simplest model to use for classification is the K-Nearest Neighbors model. We will use this model to predict the house value with a K value of 1. We will also use the accuracy metric to evaluate the model."
      ]
    },
    {
      "cell_type": "code",
      "execution_count": null,
      "metadata": {
        "id": "07zpydQj1hIQ"
      },
      "outputs": [],
      "source": [
        "def NN1(traindata, trainlabel, query):\n",
        "    \"\"\"\n",
        "    This function takes in the training data, training labels and a query point\n",
        "    and returns the predicted label for the query point using the nearest neighbour algorithm\n",
        "\n",
        "    traindata: numpy array of shape (n,d) where n is the number of samples and d is the number of features\n",
        "    trainlabel: numpy array of shape (n,) where n is the number of samples\n",
        "    query: numpy array of shape (d,) where d is the number of features\n",
        "\n",
        "    returns: the predicted label for the query point which is the label of the training data which is closest to the query point\n",
        "    \"\"\"\n",
        "    diff = (\n",
        "        traindata - query\n",
        "    )  # find the difference between features. Numpy automatically takes care of the size here\n",
        "    sq = diff * diff  # square the differences\n",
        "    dist = sq.sum(1)  # add up the squares\n",
        "    label = trainlabel[np.argmin(dist)]\n",
        "    return label\n",
        "\n",
        "\n",
        "def NN(traindata, trainlabel, testdata):\n",
        "    \"\"\"\n",
        "    This function takes in the training data, training labels and test data\n",
        "    and returns the predicted labels for the test data using the nearest neighbour algorithm\n",
        "\n",
        "    traindata: numpy array of shape (n,d) where n is the number of samples and d is the number of features\n",
        "    trainlabel: numpy array of shape (n,) where n is the number of samples\n",
        "    testdata: numpy array of shape (m,d) where m is the number of test samples and d is the number of features\n",
        "\n",
        "    returns: the predicted labels for the test data which is the label of the training data which is closest to each test point\n",
        "    \"\"\"\n",
        "    predlabel = np.array([NN1(traindata, trainlabel, i) for i in testdata])\n",
        "    return predlabel"
      ]
    },
    {
      "cell_type": "markdown",
      "metadata": {
        "id": "03JktkfIGaje"
      },
      "source": [
        "We will also define a 'random classifier', which randomly allots labels to each sample"
      ]
    },
    {
      "cell_type": "code",
      "execution_count": null,
      "metadata": {
        "id": "fogWAtjyGhAH"
      },
      "outputs": [],
      "source": [
        "def RandomClassifier(traindata, trainlabel, testdata):\n",
        "    \"\"\"\n",
        "    This function takes in the training data, training labels and test data\n",
        "    and returns the predicted labels for the test data using the random classifier algorithm\n",
        "\n",
        "    In reality, we don't need these arguments but we are passing them to keep the function signature consistent with other classifiers\n",
        "\n",
        "    traindata: numpy array of shape (n,d) where n is the number of samples and d is the number of features\n",
        "    trainlabel: numpy array of shape (n,) where n is the number of samples\n",
        "    testdata: numpy array of shape (m,d) where m is the number of test samples and d is the number of features\n",
        "\n",
        "    returns: the predicted labels for the test data which is a random label from the training data\n",
        "    \"\"\"\n",
        "\n",
        "    classes = np.unique(trainlabel)\n",
        "    rints = rng.integers(low=0, high=len(classes), size=len(testdata))\n",
        "    predlabel = classes[rints]\n",
        "    return predlabel"
      ]
    },
    {
      "cell_type": "markdown",
      "metadata": {
        "id": "1Hjf1KHs7fU5"
      },
      "source": [
        "We need a metric to evaluate the performance of the model. Let us define a metric 'Accuracy' to see how good our learning algorithm is. Accuracy is the ratio of the number of correctly classified samples to the total number of samples. The higher the accuracy, the better the algorithm. We will use the accuracy metric to evaluate and compate the performance of the K-Nearest Neighbors model and the random classifier."
      ]
    },
    {
      "cell_type": "code",
      "execution_count": null,
      "metadata": {
        "id": "ouuCqWU07bz-"
      },
      "outputs": [],
      "source": [
        "def Accuracy(gtlabel, predlabel):\n",
        "    \"\"\"\n",
        "    This function takes in the ground-truth labels and predicted labels\n",
        "    and returns the accuracy of the classifier\n",
        "\n",
        "    gtlabel: numpy array of shape (n,) where n is the number of samples\n",
        "    predlabel: numpy array of shape (n,) where n is the number of samples\n",
        "\n",
        "    returns: the accuracy of the classifier which is the number of correct predictions divided by the total number of predictions\n",
        "    \"\"\"\n",
        "    assert len(gtlabel) == len(\n",
        "        predlabel\n",
        "    ), \"Length of the ground-truth labels and predicted labels should be the same\"\n",
        "    correct = (\n",
        "        gtlabel == predlabel\n",
        "    ).sum()  # count the number of times the groundtruth label is equal to the predicted label.\n",
        "    return correct / len(gtlabel)"
      ]
    },
    {
      "cell_type": "markdown",
      "metadata": {
        "id": "4vJFwBFa9Klw"
      },
      "source": [
        "Let us make a function to split the dataset with the desired probability. We will use this function to split the dataset into training and testing sets. We will use the training set to train the model and the testing set to evaluate the model."
      ]
    },
    {
      "cell_type": "code",
      "execution_count": null,
      "metadata": {
        "id": "Ko0VzpSM2Tdi"
      },
      "outputs": [],
      "source": [
        "def split(data, label, percent):\n",
        "    # generate a random number for each sample\n",
        "    rnd = rng.random(len(label))\n",
        "    split1 = rnd < percent\n",
        "    split2 = rnd >= percent\n",
        "\n",
        "    split1data = data[split1, :]\n",
        "    split1label = label[split1]\n",
        "    split2data = data[split2, :]\n",
        "    split2label = label[split2]\n",
        "    return split1data, split1label, split2data, split2label"
      ]
    },
    {
      "cell_type": "markdown",
      "metadata": {
        "id": "AcK3LEAJ_LGC"
      },
      "source": [
        "We will reserve 20% of our dataset as the test set. We will not change this portion throughout our experiments"
      ]
    },
    {
      "cell_type": "code",
      "execution_count": null,
      "metadata": {
        "colab": {
          "base_uri": "https://localhost:8080/"
        },
        "id": "bBZkHBLJ1iU-",
        "outputId": "73ffc0bd-354d-4051-f17a-c6adebdd58fe"
      },
      "outputs": [
        {
          "output_type": "stream",
          "name": "stdout",
          "text": [
            "Number of test samples: 4144\n",
            "Number of train samples: 16496\n",
            "Percent of test data: 20.07751937984496 %\n"
          ]
        }
      ],
      "source": [
        "testdata, testlabel, alltraindata, alltrainlabel = split(\n",
        "    dataset.data, dataset.target, 20 / 100\n",
        ")\n",
        "print(\"Number of test samples:\", len(testlabel))\n",
        "print(\"Number of train samples:\", len(alltrainlabel))\n",
        "print(\"Percent of test data:\", len(testlabel) * 100 / len(dataset.target), \"%\")"
      ]
    },
    {
      "cell_type": "markdown",
      "metadata": {
        "id": "a6Ss0Z6IAGNV"
      },
      "source": [
        "## Experiments with splits\n",
        "\n",
        "Let us reserve some of our train data as a validation set"
      ]
    },
    {
      "cell_type": "code",
      "execution_count": null,
      "metadata": {
        "id": "WFew2iry_7W7"
      },
      "outputs": [],
      "source": [
        "traindata, trainlabel, valdata, vallabel = split(\n",
        "    alltraindata, alltrainlabel, 75 / 100)"
      ]
    },
    {
      "cell_type": "markdown",
      "metadata": {
        "id": "60hiu4clFN1i"
      },
      "source": [
        "What is the accuracy of our classifiers on the train dataset?"
      ]
    },
    {
      "cell_type": "code",
      "execution_count": null,
      "metadata": {
        "colab": {
          "base_uri": "https://localhost:8080/"
        },
        "id": "DBlZDTHUFTZx",
        "outputId": "2d0ed616-7ece-4d8f-8f8d-cb1eb48f7385"
      },
      "outputs": [
        {
          "output_type": "stream",
          "name": "stdout",
          "text": [
            "Training accuracy using nearest neighbour algorithm: 100.0 %\n",
            "Training accuracy using random classifier:  16.4375808538163 %\n"
          ]
        }
      ],
      "source": [
        "trainpred = NN(traindata, trainlabel, traindata)\n",
        "trainAccuracy = Accuracy(trainlabel, trainpred)\n",
        "print(\"Training accuracy using nearest neighbour algorithm:\", trainAccuracy*100, \"%\")\n",
        "\n",
        "trainpred = RandomClassifier(traindata, trainlabel, traindata)\n",
        "trainAccuracy = Accuracy(trainlabel, trainpred)\n",
        "print(\"Training accuracy using random classifier: \", trainAccuracy*100, \"%\")"
      ]
    },
    {
      "cell_type": "markdown",
      "metadata": {
        "id": "7h08-9gJDtSy"
      },
      "source": [
        "For nearest neighbour, the train accuracy is always 1. The accuracy of the random classifier is close to 1/(number of classes) which is 0.1666 in our case. This is because the random classifier randomly assigns a label to each sample and the probability of assigning the correct label is 1/(number of classes). Let us predict the labels for our validation set and get the accuracy. This accuracy is a good estimate of the accuracy of our model on unseen data."
      ]
    },
    {
      "cell_type": "code",
      "execution_count": null,
      "metadata": {
        "colab": {
          "base_uri": "https://localhost:8080/"
        },
        "id": "4h7bXoW_2H3v",
        "outputId": "ab09a4be-1b0e-4db2-ef67-a4b5f41c48fe"
      },
      "outputs": [
        {
          "output_type": "stream",
          "name": "stdout",
          "text": [
            "Validation accuracy using nearest neighbour algorithm: 34.10852713178294 %\n",
            "Validation accuracy using random classifier: 16.884689922480618 %\n"
          ]
        }
      ],
      "source": [
        "valpred = NN(traindata, trainlabel, valdata)\n",
        "valAccuracy = Accuracy(vallabel, valpred)\n",
        "print(\"Validation accuracy using nearest neighbour algorithm:\", valAccuracy*100, \"%\")\n",
        "\n",
        "\n",
        "valpred = RandomClassifier(traindata, trainlabel, valdata)\n",
        "valAccuracy = Accuracy(vallabel, valpred)\n",
        "print(\"Validation accuracy using random classifier:\", valAccuracy*100, \"%\")"
      ]
    },
    {
      "cell_type": "markdown",
      "metadata": {
        "id": "py9bLguFEjfg"
      },
      "source": [
        "Validation accuracy of nearest neighbour is considerably less than its train accuracy while the validation accuracy of random classifier is the same. However, the validation accuracy of nearest neighbour is twice that of the random classifier. Now let us try another random split and check the validation accuracy. We will see that the validation accuracy changes with the split. This is because the validation set is small and the accuracy is highly dependent on the samples in the validation set. We can get a better estimate of the accuracy by using cross-validation."
      ]
    },
    {
      "cell_type": "code",
      "execution_count": null,
      "metadata": {
        "colab": {
          "base_uri": "https://localhost:8080/"
        },
        "id": "ujm3cyYzEntE",
        "outputId": "8e5506e9-474c-4fd6-d7a6-b14aa1b8b8d1"
      },
      "outputs": [
        {
          "output_type": "stream",
          "name": "stdout",
          "text": [
            "Validation accuracy using nearest neighbour algorithm: 34.048257372654156 %\n"
          ]
        }
      ],
      "source": [
        "traindata, trainlabel, valdata, vallabel = split(\n",
        "    alltraindata, alltrainlabel, 75 / 100)\n",
        "valpred = NN(traindata, trainlabel, valdata)\n",
        "valAccuracy = Accuracy(vallabel, valpred)\n",
        "print(\"Validation accuracy using nearest neighbour algorithm:\", valAccuracy*100, \"%\")"
      ]
    },
    {
      "cell_type": "markdown",
      "metadata": {
        "id": "oSOx7U83EKie"
      },
      "source": [
        "You can run the above cell multiple times to try with different random splits.\n",
        "We notice that the accuracy is different for each run, but close together.\n",
        "\n",
        "Now let us compare it with the accuracy we get on the test dataset."
      ]
    },
    {
      "cell_type": "code",
      "execution_count": null,
      "metadata": {
        "colab": {
          "base_uri": "https://localhost:8080/"
        },
        "id": "PNEZ5ToYBEDW",
        "outputId": "2487fee9-0efc-4ce9-8b76-c8fd90b0c94a"
      },
      "outputs": [
        {
          "output_type": "stream",
          "name": "stdout",
          "text": [
            "Test accuracy: 34.91795366795367 %\n"
          ]
        }
      ],
      "source": [
        "testpred = NN(alltraindata, alltrainlabel, testdata)\n",
        "testAccuracy = Accuracy(testlabel, testpred)\n",
        "\n",
        "print(\"Test accuracy:\", testAccuracy*100, \"%\")"
      ]
    },
    {
      "cell_type": "markdown",
      "metadata": {
        "id": "w3dGD531K3gH"
      },
      "source": [
        "### Try it out for yourself and answer:\n",
        "1. How is the accuracy of the validation set affected if we increase the percentage of validation set? What happens when we reduce it?\n",
        "2. How does the size of the train and validation set affect how well we can predict the accuracy on the test set using the validation set?\n",
        "3. What do you think is a good percentage to reserve for the validation set so that thest two factors are balanced?\n",
        "\n",
        "Answer for both nearest neighbour and random classifier. You can note down the values for your experiments and plot a graph using  <a href=https://matplotlib.org/stable/gallery/lines_bars_and_markers/step_demo.html#sphx-glr-gallery-lines-bars-and-markers-step-demo-py>plt.plot<href>. Check also for extreme values for splits, like 99.9% or 0.1%"
      ]
    },
    {
      "cell_type": "markdown",
      "source": [
        "01.(ANS)\n",
        "\n",
        "When adjusting the percentage of the validation set:\n",
        "\n",
        "1. **Increase Validation Set**:\n",
        "   - **More Data for Validation**: Gives a better estimate of model performance.\n",
        "   - **Reduced Training Data**: Can slightly decrease model accuracy due to less training data.\n",
        "   \n",
        "2. **Decrease Validation Set**:\n",
        "   - **More Data for Training**: Can improve model accuracy by providing more data for learning.\n",
        "   - **Less Reliable Validation**: May give less accurate estimates of performance due to smaller validation samples.\n",
        "\n",
        "The balance between training and validation data affects both model learning and the reliability of performance estimates."
      ],
      "metadata": {
        "id": "Oav5jK4BvrI2"
      }
    },
    {
      "cell_type": "code",
      "source": [
        "\n",
        "from sklearn.model_selection import train_test_split\n",
        "from sklearn.datasets import load_iris\n",
        "from sklearn.ensemble import RandomForestClassifier\n",
        "from sklearn.metrics import accuracy_score\n",
        "\n",
        "# Load dataset\n",
        "data = load_iris()\n",
        "X, y = data.data, data.target\n",
        "\n",
        "# Split data with different validation sizes\n",
        "train_sizes = [0.9, 0.8, 0.7]  # Percentages of data used for training\n",
        "accuracies = []\n",
        "\n",
        "for train_size in train_sizes:\n",
        "    X_train, X_val, y_train, y_val = train_test_split(X, y, train_size=train_size, random_state=42)\n",
        "\n",
        "    # Train model\n",
        "    model = RandomForestClassifier()\n",
        "    model.fit(X_train, y_train)\n",
        "\n",
        "    # Validate model\n",
        "    y_pred = model.predict(X_val)\n",
        "    accuracy = accuracy_score(y_val, y_pred)\n",
        "    accuracies.append((train_size, accuracy))\n",
        "\n",
        "# Output results\n",
        "for train_size, accuracy in accuracies:\n",
        "    print(f\"Train size: {train_size*100}%, Validation Accuracy: {accuracy*100:.2f}%\")"
      ],
      "metadata": {
        "id": "ZQvJmA96v__Q",
        "outputId": "8e2db670-5795-407b-a902-912a10d26885",
        "colab": {
          "base_uri": "https://localhost:8080/"
        }
      },
      "execution_count": null,
      "outputs": [
        {
          "output_type": "stream",
          "name": "stdout",
          "text": [
            "Train size: 90.0%, Validation Accuracy: 100.00%\n",
            "Train size: 80.0%, Validation Accuracy: 100.00%\n",
            "Train size: 70.0%, Validation Accuracy: 100.00%\n"
          ]
        }
      ]
    },
    {
      "cell_type": "markdown",
      "source": [
        "02.(ANS)\n",
        "\n",
        "1. **Large Training, Small Validation**:\n",
        "   - **High Training Accuracy**.\n",
        "   - **Less Reliable Validation Accuracy**.\n",
        "   - **Test Accuracy Prediction** may be inaccurate.\n",
        "\n",
        "2. **Small Training, Large Validation**:\n",
        "   - **Lower Training Accuracy** (risk of underfitting).\n",
        "   - **More Reliable Validation Accuracy**.\n",
        "   - **Test Accuracy Prediction** may be better, but the model may underperform.\n",
        "\n",
        "3. **Balanced Split**:\n",
        "   - **Good Training and Validation Accuracy**.\n",
        "   - **Test Accuracy Prediction** is generally more reliable."
      ],
      "metadata": {
        "id": "_curmMnSu9bM"
      }
    },
    {
      "cell_type": "code",
      "source": [
        "\n",
        "from sklearn.datasets import make_classification\n",
        "from sklearn.model_selection import train_test_split\n",
        "from sklearn.linear_model import LogisticRegression\n",
        "from sklearn.metrics import accuracy_score\n",
        "import numpy as np\n",
        "\n",
        "# Generate synthetic classification data\n",
        "X, y = make_classification(n_samples=10000, n_features=20, n_classes=2, random_state=42)\n",
        "\n",
        "# Split the data into train, validation, and test sets\n",
        "X_train_full, X_test, y_train_full, y_test = train_test_split(X, y, test_size=0.2, random_state=42)\n",
        "\n",
        "# Different training-validation splits\n",
        "validation_sizes = [0.1, 0.2, 0.3, 0.4, 0.5]\n",
        "\n",
        "results = []\n",
        "\n",
        "for val_size in validation_sizes:\n",
        "    X_train, X_val, y_train, y_val = train_test_split(X_train_full, y_train_full, test_size=val_size, random_state=42)\n",
        "\n",
        "    # Train a logistic regression model\n",
        "    model = LogisticRegression(max_iter=1000)\n",
        "    model.fit(X_train, y_train)\n",
        "\n",
        "    # Calculate validation accuracy\n",
        "    val_accuracy = accuracy_score(y_val, model.predict(X_val))\n",
        "\n",
        "    # Calculate test accuracy\n",
        "    test_accuracy = accuracy_score(y_test, model.predict(X_test))\n",
        "\n",
        "    results.append((len(X_train), len(X_val), val_accuracy, test_accuracy))\n",
        "\n",
        "# Print results\n",
        "for train_size, val_size, val_acc, test_acc in results:\n",
        "    print(f\"Training size: {train_size}, Validation size: {val_size}, Validation Accuracy: {val_acc:.4f}, Test Accuracy: {test_acc:.4f}\")"
      ],
      "metadata": {
        "id": "dI15af4mwN_i",
        "outputId": "01330b29-d6a4-4bda-ecbc-1aed89a8d737",
        "colab": {
          "base_uri": "https://localhost:8080/"
        }
      },
      "execution_count": null,
      "outputs": [
        {
          "output_type": "stream",
          "name": "stdout",
          "text": [
            "Training size: 7200, Validation size: 800, Validation Accuracy: 0.8825, Test Accuracy: 0.8965\n",
            "Training size: 6400, Validation size: 1600, Validation Accuracy: 0.8900, Test Accuracy: 0.8960\n",
            "Training size: 5600, Validation size: 2400, Validation Accuracy: 0.8842, Test Accuracy: 0.8935\n",
            "Training size: 4800, Validation size: 3200, Validation Accuracy: 0.8825, Test Accuracy: 0.8945\n",
            "Training size: 4000, Validation size: 4000, Validation Accuracy: 0.8872, Test Accuracy: 0.8940\n"
          ]
        }
      ]
    },
    {
      "cell_type": "markdown",
      "source": [
        "03.(ANS)\n",
        "\n",
        "To achieve a balanced approach between training and validation:\n",
        "\n",
        "1. **20-25% Validation**:\n",
        "   - **Reliability**: Offers a solid estimate of model performance with a sufficiently large validation set.\n",
        "   - **Training Data**: Keeps 75-80% for training, which is typically enough to build a strong model.\n",
        "\n",
        "2. **30% Validation**:\n",
        "   - **Larger Datasets**: Works well when you have a large dataset, allowing for a more detailed validation without significantly impacting the training process.\n",
        "   - **Validation Accuracy**: Provides a more stable and reliable accuracy estimate.\n",
        "\n",
        "### Factors to Consider:\n",
        "- **Dataset Size**: Larger datasets can afford a higher percentage for validation.\n",
        "- **Model Complexity**: More complex models may require more training data, favoring a smaller validation set.\n",
        "- **Cross-Validation**: If uncertain, use cross-validation (e.g., 5-fold) to use the entire dataset for both training and validation across multiple iterations, providing a robust performance estimate."
      ],
      "metadata": {
        "id": "dkatQXGLwYMI"
      }
    },
    {
      "cell_type": "code",
      "source": [
        "\n",
        "from sklearn.datasets import make_classification\n",
        "from sklearn.model_selection import train_test_split\n",
        "from sklearn.linear_model import LogisticRegression\n",
        "from sklearn.metrics import accuracy_score\n",
        "import numpy as np\n",
        "\n",
        "# Generate synthetic classification data\n",
        "X, y = make_classification(n_samples=10000, n_features=20, n_classes=2, random_state=42)\n",
        "\n",
        "# Split the data into a train+validation set and a test set (holdout test set)\n",
        "X_train_full, X_test, y_train_full, y_test = train_test_split(X, y, test_size=0.2, random_state=42)\n",
        "\n",
        "# Define the validation set percentages to experiment with\n",
        "validation_percentages = [0.1, 0.15, 0.2, 0.25, 0.3]\n",
        "\n",
        "results = []\n",
        "\n",
        "for val_percentage in validation_percentages:\n",
        "    # Split the training+validation set into actual training and validation sets\n",
        "    X_train, X_val, y_train, y_val = train_test_split(X_train_full, y_train_full, test_size=val_percentage, random_state=42)\n",
        "\n",
        "    # Train a logistic regression model\n",
        "    model = LogisticRegression(max_iter=1000)\n",
        "    model.fit(X_train, y_train)\n",
        "\n",
        "    # Calculate validation accuracy\n",
        "    val_accuracy = accuracy_score(y_val, model.predict(X_val))\n",
        "\n",
        "    # Calculate test accuracy\n",
        "    test_accuracy = accuracy_score(y_test, model.predict(X_test))\n",
        "\n",
        "    # Calculate the absolute difference between validation accuracy and test accuracy\n",
        "    diff = abs(val_accuracy - test_accuracy)\n",
        "\n",
        "    # Store the results\n",
        "    results.append((val_percentage, len(X_train), len(X_val), val_accuracy, test_accuracy, diff))\n",
        "\n",
        "# Print the results\n",
        "print(f\"{'Validation %':<12} {'Train Size':<12} {'Val Size':<10} {'Val Accuracy':<15} {'Test Accuracy':<15} {'Difference':<12}\")\n",
        "for val_percentage, train_size, val_size, val_acc, test_acc, diff in results:\n",
        "    print(f\"{val_percentage:<12.2f} {train_size:<12} {val_size:<10} {val_acc:<15.4f} {test_acc:<15.4f} {diff:<12.4f}\")\n",
        "\n",
        "# Find the validation percentage with the minimum difference\n",
        "best_result = min(results, key=lambda x: x[-1])\n",
        "best_val_percentage = best_result[0]\n",
        "print(f\"\\nBest validation percentage: {best_val_percentage * 100:.2f}%\")"
      ],
      "metadata": {
        "id": "zPPjHF3BwzWZ",
        "outputId": "9b82dd8f-c3ac-48cd-e711-75bbbbb28b87",
        "colab": {
          "base_uri": "https://localhost:8080/"
        }
      },
      "execution_count": null,
      "outputs": [
        {
          "output_type": "stream",
          "name": "stdout",
          "text": [
            "Validation % Train Size   Val Size   Val Accuracy    Test Accuracy   Difference  \n",
            "0.10         7200         800        0.8825          0.8965          0.0140      \n",
            "0.15         6800         1200       0.8842          0.8950          0.0108      \n",
            "0.20         6400         1600       0.8900          0.8960          0.0060      \n",
            "0.25         6000         2000       0.8925          0.8950          0.0025      \n",
            "0.30         5600         2400       0.8842          0.8935          0.0093      \n",
            "\n",
            "Best validation percentage: 25.00%\n"
          ]
        }
      ]
    },
    {
      "cell_type": "markdown",
      "metadata": {
        "id": "M9zvdYY6evgI"
      },
      "source": [
        "> Exercise: Try to implement a 3 nearest neighbour classifier and compare the accuracy of the 1 nearest neighbour classifier and the 3 nearest neighbour classifier on the test dataset. You can use the KNeighborsClassifier class from the scikit-learn library to implement the K-Nearest Neighbors model. You can set the number of neighbors using the n_neighbors parameter. You can also use the accuracy_score function from the scikit-learn library to calculate the accuracy of the model."
      ]
    },
    {
      "cell_type": "markdown",
      "metadata": {
        "id": "PnYvkAZLQY7h"
      },
      "source": [
        "## Multiple Splits\n",
        "\n",
        "One way to get more accurate estimates for the test accuracy is by using <b>cross-validation</b>. Here, we will try a simple version, where we do multiple train/val splits and take the average of validation accuracies as the test accuracy estimation. Here is a function for doing this. Note that this function will take a long time to execute. You can reduce the number of splits to make it faster."
      ]
    },
    {
      "cell_type": "code",
      "execution_count": null,
      "metadata": {
        "id": "E4nGCUQXBTzo"
      },
      "outputs": [],
      "source": [
        "def AverageAccuracy(alldata, alllabel, splitpercent, iterations, classifier=NN):\n",
        "    \"\"\"\n",
        "    This function takes in the data, labels, split percentage, number of iterations and classifier function\n",
        "    and returns the average accuracy of the classifier\n",
        "\n",
        "    alldata: numpy array of shape (n,d) where n is the number of samples and d is the number of features\n",
        "    alllabel: numpy array of shape (n,) where n is the number of samples\n",
        "    splitpercent: float which is the percentage of data to be used for training\n",
        "    iterations: int which is the number of iterations to run the classifier\n",
        "    classifier: function which is the classifier function to be used\n",
        "\n",
        "    returns: the average accuracy of the classifier\n",
        "    \"\"\"\n",
        "    accuracy = 0\n",
        "    for ii in range(iterations):\n",
        "        traindata, trainlabel, valdata, vallabel = split(\n",
        "            alldata, alllabel, splitpercent\n",
        "        )\n",
        "        valpred = classifier(traindata, trainlabel, valdata)\n",
        "        accuracy += Accuracy(vallabel, valpred)\n",
        "    return accuracy / iterations  # average of all accuracies"
      ]
    },
    {
      "cell_type": "code",
      "execution_count": null,
      "metadata": {
        "colab": {
          "base_uri": "https://localhost:8080/"
        },
        "id": "H3qtNar7Bbik",
        "outputId": "5a5a53ec-beea-4f7f-cefc-79f74cceb1bd"
      },
      "outputs": [
        {
          "output_type": "stream",
          "name": "stdout",
          "text": [
            "Average validation accuracy: 33.58463539517022 %\n",
            "Test accuracy: 34.91795366795367 %\n"
          ]
        }
      ],
      "source": [
        "avg_acc = AverageAccuracy(alltraindata, alltrainlabel, 75 / 100, 10, classifier=NN)\n",
        "print(\"Average validation accuracy:\", avg_acc*100, \"%\")\n",
        "testpred = NN(alltraindata, alltrainlabel, testdata)\n",
        "\n",
        "print(\"Test accuracy:\", Accuracy(testlabel, testpred)*100, \"%\")"
      ]
    },
    {
      "cell_type": "markdown",
      "metadata": {
        "id": "33GIn4x5VH-d"
      },
      "source": [
        "This is a very simple way of doing cross-validation. There are many well-known algorithms for cross-validation, like k-fold cross-validation, leave-one-out etc. This will be covered in detail in a later module. For more information about cross-validation, check <a href=https://en.wikipedia.org/wiki/Cross-validation_(statistics)>Cross-validatioin (Wikipedia)</a>\n",
        "\n",
        "### Questions\n",
        "1. Does averaging the validation accuracy across multiple splits give more consistent results?\n",
        "2. Does it give more accurate estimate of test accuracy?\n",
        "3. What is the effect of the number of iterations on the estimate? Do we get a better estimate with higher iterations?\n",
        "4. Consider the results you got for the previous questions. Can we deal with a very small train dataset or validation dataset by increasing the iterations?\n"
      ]
    },
    {
      "cell_type": "markdown",
      "source": [
        "01.(ANS)\n",
        "\n",
        "Averaging validation accuracy across multiple splits improves consistency by:\n",
        "\n",
        "1. **Reducing Variance**: It mitigates the effect of any single split that might be unusually good or bad, leading to more stable results.\n",
        "  \n",
        "2. **Better Generalization**: It helps ensure that the model's performance is consistent across different subsets of the data, giving a better estimate of how it will perform on unseen data.\n",
        "\n",
        "3. **Addressing Data Imbalance**: If some classes are underrepresented, multiple splits can ensure that each class gets appropriately represented in both training and validation sets.\n",
        "\n",
        "4. **Robustness**: This approach makes the evaluation less sensitive to outliers or specific data distributions in a single split.\n",
        "\n",
        "Overall, it leads to a more reliable assessment of the model's performance, especially in cases where data is limited or varied."
      ],
      "metadata": {
        "id": "8nbsfjk6xMbB"
      }
    },
    {
      "cell_type": "code",
      "source": [
        "\n",
        "from sklearn.model_selection import cross_val_score\n",
        "from sklearn.datasets import load_iris\n",
        "from sklearn.ensemble import RandomForestClassifier\n",
        "\n",
        "# Load dataset\n",
        "data = load_iris()\n",
        "X, y = data.data, data.target\n",
        "\n",
        "# Initialize model\n",
        "model = RandomForestClassifier()\n",
        "\n",
        "# Perform k-fold cross-validation\n",
        "scores = cross_val_score(model, X, y, cv=5)  # cv=5 means 5-fold cross-validation\n",
        "\n",
        "# Calculate average accuracy\n",
        "average_accuracy = scores.mean()\n",
        "\n",
        "print(f\"Validation accuracies for each fold: {scores}\")\n",
        "print(f\"Average validation accuracy: {average_accuracy:.4f}\")"
      ],
      "metadata": {
        "id": "T_MzoZVJxT4n",
        "outputId": "5b406217-7b68-4fd9-c526-3374f11b24be",
        "colab": {
          "base_uri": "https://localhost:8080/"
        }
      },
      "execution_count": null,
      "outputs": [
        {
          "output_type": "stream",
          "name": "stdout",
          "text": [
            "Validation accuracies for each fold: [0.96666667 0.96666667 0.93333333 0.96666667 1.        ]\n",
            "Average validation accuracy: 0.9667\n"
          ]
        }
      ]
    },
    {
      "cell_type": "markdown",
      "source": [
        "02.(ANS)\n",
        "\n",
        "Averaging validation accuracy across multiple splits provides a more accurate estimate of test accuracy by:\n",
        "\n",
        "1. **Reducing Overfitting Risk**: It prevents the model from overfitting to a specific train-validation split.\n",
        "  \n",
        "2. **Capturing Data Variability**: It accounts for the natural variability in the dataset, leading to a more representative assessment of model performance.\n",
        "\n",
        "3. **Mitigating Randomness**: Reduces the influence of random factors that might skew results in a single split.\n",
        "\n",
        "4. **Ensuring Generalization**: It better reflects how the model will perform on truly unseen data, as the evaluation considers multiple possible scenarios.\n",
        "\n",
        "Overall, this approach gives a more robust and accurate prediction of test accuracy, enhancing confidence in the model's generalization ability."
      ],
      "metadata": {
        "id": "1tXMZH94xo2Y"
      }
    },
    {
      "cell_type": "code",
      "source": [
        "\n",
        "from sklearn.model_selection import cross_val_score\n",
        "from sklearn.datasets import load_iris\n",
        "from sklearn.ensemble import RandomForestClassifier\n",
        "import numpy as np\n",
        "\n",
        "# Load dataset\n",
        "data = load_iris()\n",
        "X, y = data.data, data.target\n",
        "\n",
        "# Initialize the model\n",
        "model = RandomForestClassifier(random_state=42)\n",
        "\n",
        "# Perform 5-fold cross-validation\n",
        "cv_scores = cross_val_score(model, X, y, cv=5, scoring='accuracy')\n",
        "\n",
        "# Calculate the mean and standard deviation of validation accuracy\n",
        "mean_cv_score = np.mean(cv_scores)\n",
        "std_cv_score = np.std(cv_scores)\n",
        "\n",
        "# Output results\n",
        "print(f\"Mean Validation Accuracy: {mean_cv_score*100:.2f}%\")\n",
        "print(f\"Validation Accuracy Std Dev: {std_cv_score*100:.2f}%\")"
      ],
      "metadata": {
        "id": "NxgodrjCxvzc",
        "outputId": "70c26a6e-6298-4e8c-9caf-e0c631da4f2f",
        "colab": {
          "base_uri": "https://localhost:8080/"
        }
      },
      "execution_count": null,
      "outputs": [
        {
          "output_type": "stream",
          "name": "stdout",
          "text": [
            "Mean Validation Accuracy: 96.67%\n",
            "Validation Accuracy Std Dev: 2.11%\n"
          ]
        }
      ]
    },
    {
      "cell_type": "markdown",
      "source": [
        "03.(ANS)\n",
        "\n",
        "Yes, the number of iterations typically has a significant effect on the accuracy of an estimate, especially in iterative algorithms or methods like Monte Carlo simulations, optimization algorithms, and machine learning models.\n",
        "\n",
        "### Effects of Increasing Iterations:\n",
        "1. **Accuracy Improvement**: More iterations generally lead to a more accurate estimate. As the number of iterations increases, the algorithm has more opportunities to refine its results, reducing the variance in the estimate.\n",
        "\n",
        "2. **Convergence**: Many algorithms converge to a stable solution as the number of iterations increases. This means that after a certain point, additional iterations will result in diminishing improvements to the estimate.\n",
        "\n",
        "3. **Reduction of Randomness**: In stochastic methods like Monte Carlo simulations, increasing the number of iterations reduces the impact of randomness, leading to a more reliable and stable estimate.\n",
        "\n",
        "4. **Computational Cost**: However, increasing iterations also means more computational time and resources. It's essential to find a balance between the number of iterations and the desired level of accuracy, especially in resource-constrained environments.\n",
        "\n",
        "### Diminishing Returns:\n",
        "- **Law of Diminishing Returns**: Beyond a certain point, increasing the number of iterations may yield only marginal improvements in the estimate, making it important to assess when further iterations are no longer cost-effective.\n",
        "\n",
        "In summary, higher iterations generally lead to better estimates, but it's important to balance this with the computational cost and the specific needs of the task at hand."
      ],
      "metadata": {
        "id": "USNJMNe5yUpG"
      }
    },
    {
      "cell_type": "code",
      "source": [
        "\n",
        "import pandas as pd\n",
        "from sklearn.model_selection import train_test_split\n",
        "from sklearn.ensemble import RandomForestClassifier\n",
        "from sklearn.metrics import accuracy_score\n",
        "\n",
        "# Sample DataFrame\n",
        "data = pd.DataFrame({\n",
        "    'feature1': [5, 3, 8, 1, 7],\n",
        "    'feature2': [2, 4, 6, 8, 1],\n",
        "    'label': [0, 1, 0, 1, 0]\n",
        "})\n",
        "\n",
        "# Sorting data by a feature\n",
        "data_sorted = data.sort_values(by='feature1')\n",
        "\n",
        "# Separating features and labels\n",
        "X = data_sorted[['feature1', 'feature2']]\n",
        "y = data_sorted['label']\n",
        "\n",
        "# Splitting the data into training and test sets\n",
        "X_train, X_test, y_train, y_test = train_test_split(X, y, test_size=0.3, random_state=42)\n",
        "\n",
        "# Initializing and training a model\n",
        "model = RandomForestClassifier()\n",
        "model.fit(X_train, y_train)\n",
        "\n",
        "# Making predictions and evaluating the model\n",
        "predictions = model.predict(X_test)\n",
        "accuracy = accuracy_score(y_test, predictions)\n",
        "\n",
        "print(\"Accuracy:\", accuracy)"
      ],
      "metadata": {
        "id": "sB8sKGKwybJu",
        "outputId": "75e6b755-f084-44d8-dda5-d7d7897b33c7",
        "colab": {
          "base_uri": "https://localhost:8080/"
        }
      },
      "execution_count": null,
      "outputs": [
        {
          "output_type": "stream",
          "name": "stdout",
          "text": [
            "Accuracy: 0.5\n"
          ]
        }
      ]
    },
    {
      "cell_type": "markdown",
      "source": [
        "04.(ANS)\n",
        "\n",
        "When dealing with very small training or validation datasets, simply increasing the number of iterations in your machine learning model may not be sufficient to address the challenges. Here’s a concise overview of how increasing iterations interacts with small datasets:\n",
        "\n",
        "### Challenges with Small Datasets:\n",
        "1. **Overfitting**: With small datasets, models are more prone to overfitting, where they learn noise instead of patterns. Increasing iterations can exacerbate this issue as the model might fit the limited data too closely.\n",
        "\n",
        "2. **Insufficient Training Data**: Even with many iterations, the model might not generalize well because it lacks enough data to learn effectively.\n",
        "\n",
        "3. **High Variance**: Small datasets can lead to high variance in model performance, making the results unstable.\n",
        "\n",
        "### Strategies Beyond Increasing Iterations:\n",
        "1. **Data Augmentation**: Generate more training data by creating synthetic samples or using techniques like SMOTE (Synthetic Minority Over-sampling Technique).\n",
        "\n",
        "2. **Cross-Validation**: Use techniques like k-fold cross-validation to make the most of your limited data and assess model performance more reliably.\n",
        "\n",
        "3. **Regularization**: Apply regularization techniques to prevent overfitting, such as L1/L2 regularization, dropout in neural networks, or pruning in decision trees.\n",
        "\n",
        "4. **Model Selection**: Choose simpler models that are less likely to overfit, or use ensemble methods to improve stability and performance.\n",
        "\n",
        "5. **Transfer Learning**: Utilize pre-trained models and fine-tune them on your small dataset, leveraging knowledge from larger datasets.\n",
        "\n",
        "In summary, while increasing iterations might help improve model performance to some extent, it’s crucial to address the limitations of small datasets through other strategies to achieve reliable and generalizable results."
      ],
      "metadata": {
        "id": "LAFhBkS_1USp"
      }
    },
    {
      "cell_type": "code",
      "source": [
        "\n",
        "import numpy as np\n",
        "import pandas as pd\n",
        "from sklearn.model_selection import train_test_split, cross_val_score\n",
        "from sklearn.linear_model import LogisticRegression\n",
        "from sklearn.preprocessing import StandardScaler\n",
        "from sklearn.utils import resample\n",
        "from sklearn.metrics import accuracy_score\n",
        "\n",
        "# Sample small dataset\n",
        "data = pd.DataFrame({\n",
        "    'feature1': [1, 2, 3, 4, 5],\n",
        "    'feature2': [5, 4, 3, 2, 1],\n",
        "    'label': [0, 1, 0, 1, 0]\n",
        "})\n",
        "\n",
        "# Features and labels\n",
        "X = data[['feature1', 'feature2']]\n",
        "y = data['label']\n",
        "\n",
        "# Data scaling\n",
        "scaler = StandardScaler()\n",
        "X_scaled = scaler.fit_transform(X)\n",
        "\n",
        "# Data augmentation (oversampling the minority class)\n",
        "X_resampled, y_resampled = resample(X_scaled, y, replace=True, n_samples=10, random_state=42)\n",
        "\n",
        "# Splitting the data into training and test sets\n",
        "X_train, X_test, y_train, y_test = train_test_split(X_resampled, y_resampled, test_size=0.3, random_state=42)\n",
        "\n",
        "# Initialize and train a model with regularization\n",
        "model = LogisticRegression(penalty='l2')\n",
        "model.fit(X_train, y_train)\n",
        "\n",
        "# Making predictions\n",
        "predictions = model.predict(X_test)\n",
        "accuracy = accuracy_score(y_test, predictions)\n",
        "\n",
        "# Cross-validation\n",
        "cv_scores = cross_val_score(model, X_resampled, y_resampled, cv=3)\n",
        "\n",
        "print(\"Accuracy:\", accuracy)\n",
        "print(\"Cross-validation scores:\", cv_scores)\n",
        "print(\"Mean CV Score:\", np.mean(cv_scores))"
      ],
      "metadata": {
        "id": "KfevmKz01jnn",
        "outputId": "dc03e560-bea3-41d4-b607-1c49e8c1cb61",
        "colab": {
          "base_uri": "https://localhost:8080/"
        }
      },
      "execution_count": null,
      "outputs": [
        {
          "output_type": "stream",
          "name": "stdout",
          "text": [
            "Accuracy: 0.6666666666666666\n",
            "Cross-validation scores: [0.75       0.66666667 1.        ]\n",
            "Mean CV Score: 0.8055555555555555\n"
          ]
        },
        {
          "output_type": "stream",
          "name": "stderr",
          "text": [
            "/usr/local/lib/python3.10/dist-packages/sklearn/model_selection/_split.py:737: UserWarning: The least populated class in y has only 2 members, which is less than n_splits=3.\n",
            "  warnings.warn(\n"
          ]
        }
      ]
    },
    {
      "cell_type": "markdown",
      "metadata": {
        "id": "z-SBxy1qevgJ"
      },
      "source": [
        "> Exercise: How does the accuracy of the 3 nearest neighbour classifier change with the number of splits? How is it affected by the split size? Compare the results with the 1 nearest neighbour classifier."
      ]
    }
  ],
  "metadata": {
    "colab": {
      "provenance": [],
      "include_colab_link": true
    },
    "kernelspec": {
      "display_name": "Python 3",
      "name": "python3"
    },
    "language_info": {
      "codemirror_mode": {
        "name": "ipython",
        "version": 3
      },
      "file_extension": ".py",
      "mimetype": "text/x-python",
      "name": "python",
      "nbconvert_exporter": "python",
      "pygments_lexer": "ipython3",
      "version": "3.10.10"
    }
  },
  "nbformat": 4,
  "nbformat_minor": 0
}